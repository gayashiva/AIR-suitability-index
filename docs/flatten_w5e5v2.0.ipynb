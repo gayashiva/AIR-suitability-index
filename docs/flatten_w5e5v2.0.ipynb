{
 "cells": [
  {
   "cell_type": "markdown",
   "id": "herbal-transport",
   "metadata": {},
   "source": [
    "# W5E5 download and postprocessing"
   ]
  },
  {
   "cell_type": "markdown",
   "id": "studied-producer",
   "metadata": {},
   "source": [
    "- from: https://data.isimip.org/search/query/w5e5/climate_forcing/w5e5v2.0/climate_variable/pr/climate_variable/orog/climate_variable/tas/\n",
    "- download in terminal: `wget -i download_W5E5_script.txt` \n"
   ]
  },
  {
   "cell_type": "code",
   "execution_count": 2,
   "id": "heavy-tunnel",
   "metadata": {},
   "outputs": [
    {
     "name": "stdout",
     "output_type": "stream",
     "text": [
      "Total number of glaciers: 216502 and number of W5E5 gridpoints with glaciers in them: 4713\n"
     ]
    },
    {
     "name": "stderr",
     "output_type": "stream",
     "text": [
      "/tmp/ipykernel_14618/3570220549.py:45: FutureWarning: The default value of numeric_only in DataFrameGroupBy.sum is deprecated. In a future version, numeric_only will default to False. Either specify numeric_only or select only columns which should be valid for the function.\n",
      "  mdf['Area'] = odf.groupby('unique_id').sum()['Area']\n"
     ]
    }
   ],
   "source": [
    "import xarray as xr\n",
    "import numpy as np\n",
    "import pandas as pd\n",
    "from oggm import utils\n",
    "\n",
    "import sys\n",
    "import matplotlib.pyplot as plt\n",
    "import os\n",
    "\n",
    "path='/media/share/datasets/w5e5/'\n",
    "\n",
    "\n",
    "ds_inv = xr.open_dataset(path + 'orog_W5E5v2.0.nc')\n",
    "ds_inv = ds_inv.rename({'lat': 'latitude'})\n",
    "ds_inv = ds_inv.rename({'lon': 'longitude'})\n",
    "ds_inv.coords['longitude'] = np.where(ds_inv.longitude.values < 0,\n",
    "                                      ds_inv.longitude.values + 360,\n",
    "                                      ds_inv.longitude.values)\n",
    "# (ds.coords['longitude'] + 180) % 360 - 180\n",
    "ds_inv = ds_inv.sortby(ds_inv.latitude) # because it starts at 90 ... \n",
    "\n",
    "ds_inv = ds_inv.sortby(ds_inv.longitude)\n",
    "\n",
    "ds_inv.longitude.attrs['units'] = 'degrees_onlypositive'\n",
    "\n",
    "# get the dataset where coordinates of glaciers are stored\n",
    "frgi = utils.file_downloader('https://cluster.klima.uni-bremen.de/~oggm/rgi/rgi62_stats.h5')\n",
    "odf = pd.read_hdf(frgi, index_col=0)\n",
    "\n",
    "nx, ny = ds_inv.dims['longitude'], ds_inv.dims['latitude']\n",
    "# Nearest neighbor lookup\n",
    "cenlon_for_bins = np.where(odf['CenLon'] < -0.125,\n",
    "                           odf['CenLon']+360,\n",
    "                           odf['CenLon']) # just make them into 0-> 360 scheme\n",
    "lon_bins = np.linspace(0, 360, nx) # np.linspace(-0.125, 359.75+0.125, nx)\n",
    "# !!! attention W5E5 sorted from 90 to -90 !!!!\n",
    "#lat_bins = np.linspace(90, -90, ny)  #  \n",
    "#lat_bins = np.linspace(90+0.125, -90-0.125, ny)\n",
    "lat_bins = np.linspace(-90, +90, ny)\n",
    "odf['lon_id'] = np.digitize(cenlon_for_bins, lon_bins)-1\n",
    "odf['lat_id'] = np.digitize(odf['CenLat'], lat_bins)-1\n",
    "# Use unique grid points as index and compute the area per location\n",
    "odf['unique_id'] = ['{:03d}_{:03d}'.format(lon, lat) for (lon, lat) in zip(odf['lon_id'], odf['lat_id'])]\n",
    "mdf = odf.drop_duplicates(subset='unique_id').set_index('unique_id')\n",
    "mdf['Area'] = odf.groupby('unique_id').sum()['Area']\n",
    "print('Total number of glaciers: {} and number of W5E5 gridpoints with glaciers in them: {}'.format(len(odf), len(mdf)))\n",
    "\n",
    "# this is the mask that we need to remove all non-glacierized gridpoints\n",
    "mask = np.full((ny, nx), np.NaN)\n",
    "mask[mdf['lat_id'], mdf['lon_id']] = 1#mdf['Area']\n",
    "ds_inv['glacier_mask'] = (('latitude', 'longitude'), np.isfinite(mask))\n",
    "\n",
    "#c = (ds_inv.longitude - lon)**2 + (ds_inv.latitude - lat)**2\n",
    "lon, lat = (10.7584, 46.8003)\n",
    "surf_hef = ds_inv.sel(longitude=lon, latitude = lat, method='nearest')\n",
    "np.testing.assert_allclose(surf_hef.orog.values, 2250, rtol=0.1)\n",
    "\n"
   ]
  },
  {
   "cell_type": "code",
   "execution_count": null,
   "id": "intellectual-guarantee",
   "metadata": {},
   "outputs": [],
   "source": [
    "import xarray as xr\n",
    "import numpy as np\n",
    "import pandas as pd\n",
    "from oggm import utils\n",
    "\n",
    "import sys\n",
    "import matplotlib.pyplot as plt\n",
    "import os\n",
    "\n",
    "path='/home/www/lschuster/W5E5'\n",
    "\n",
    "\n",
    "ds_inv = xr.open_dataset('orog_W5E5v2.0.nc')\n",
    "#ds_inv = xr.open_dataset('/home/users/lschuster/glacierMIP/ASurf_WFDE5_CRU_v1.1.nc')\n",
    "ds_inv = ds_inv.rename({'lat': 'latitude'})\n",
    "ds_inv = ds_inv.rename({'lon': 'longitude'})\n",
    "ds_inv.coords['longitude'] = np.where(ds_inv.longitude.values < 0,\n",
    "                                      ds_inv.longitude.values + 360,\n",
    "                                      ds_inv.longitude.values)\n",
    "# (ds.coords['longitude'] + 180) % 360 - 180\n",
    "ds_inv = ds_inv.sortby(ds_inv.latitude) # because it starts at 90 ... \n",
    "\n",
    "ds_inv = ds_inv.sortby(ds_inv.longitude)\n",
    "\n",
    "ds_inv.longitude.attrs['units'] = 'degrees_onlypositive'\n",
    "\n",
    "# get the dataset where coordinates of glaciers are stored\n",
    "frgi = utils.file_downloader('https://cluster.klima.uni-bremen.de/~oggm/rgi/rgi62_stats.h5')\n",
    "odf = pd.read_hdf(frgi, index_col=0)\n",
    "\n",
    "nx, ny = ds_inv.dims['longitude'], ds_inv.dims['latitude']\n",
    "# Nearest neighbor lookup\n",
    "cenlon_for_bins = np.where(odf['CenLon'] < -0.125,\n",
    "                           odf['CenLon']+360,\n",
    "                           odf['CenLon']) # just make them into 0-> 360 scheme\n",
    "lon_bins = np.linspace(0, 360, nx) # np.linspace(-0.125, 359.75+0.125, nx)\n",
    "# !!! attention W5E5 sorted from 90 to -90 !!!!\n",
    "#lat_bins = np.linspace(90, -90, ny)  #  \n",
    "#lat_bins = np.linspace(90+0.125, -90-0.125, ny)\n",
    "lat_bins = np.linspace(-90, +90, ny)\n",
    "odf['lon_id'] = np.digitize(cenlon_for_bins, lon_bins)-1\n",
    "odf['lat_id'] = np.digitize(odf['CenLat'], lat_bins)-1\n",
    "# Use unique grid points as index and compute the area per location\n",
    "odf['unique_id'] = ['{:03d}_{:03d}'.format(lon, lat) for (lon, lat) in zip(odf['lon_id'], odf['lat_id'])]\n",
    "mdf = odf.drop_duplicates(subset='unique_id').set_index('unique_id')\n",
    "mdf['Area'] = odf.groupby('unique_id').sum()['Area']\n",
    "print('Total number of glaciers: {} and number of W5E5 gridpoints with glaciers in them: {}'.format(len(odf), len(mdf)))\n",
    "\n",
    "# this is the mask that we need to remove all non-glacierized gridpoints\n",
    "mask = np.full((ny, nx), np.NaN)\n",
    "mask[mdf['lat_id'], mdf['lon_id']] = 1#mdf['Area']\n",
    "ds_inv['glacier_mask'] = (('latitude', 'longitude'), np.isfinite(mask))\n",
    "\n",
    "#c = (ds_inv.longitude - lon)**2 + (ds_inv.latitude - lat)**2\n",
    "lon, lat = (10.7584, 46.8003)\n",
    "surf_hef = ds_inv.sel(longitude=lon, latitude = lat, method='nearest')\n",
    "np.testing.assert_allclose(surf_hef.orog.values, 2250, rtol=0.1)\n",
    "\n"
   ]
  },
  {
   "cell_type": "code",
   "execution_count": null,
   "id": "flexible-cuisine",
   "metadata": {},
   "outputs": [],
   "source": [
    "#ds_inv_wfde5 = xr.open_dataset('/home/users/lschuster/ASurf_WFDE5_CRU_v1.1.nc')"
   ]
  },
  {
   "cell_type": "markdown",
   "id": "indoor-cameroon",
   "metadata": {},
   "source": [
    "## yearly and monthly (actually both together ...)\n"
   ]
  },
  {
   "cell_type": "code",
   "execution_count": null,
   "id": "taken-documentary",
   "metadata": {},
   "outputs": [],
   "source": [
    "\n",
    "make_daily = False\n",
    "if make_daily:\n",
    "    \n",
    "    try:\n",
    "        os.mkdir('/home/users/lschuster/W5E5/flattened')\n",
    "        os.mkdir('/home/users/lschuster/W5E5/flattened/tmp_pr')\n",
    "        os.mkdir('/home/users/lschuster/W5E5/flattened/tmp_tas')\n",
    "    except:\n",
    "        pass\n",
    "    \n",
    "    yss = [1979, 1981, 1991, 2001, 2011]\n",
    "    yee = [1980, 1990, 2000, 2010, 2019]\n",
    "    for var in ['pr', 'tas']:\n",
    "        for ys, ye in zip(yss, yee):\n",
    "            ds = xr.open_dataset('{}_W5E5v2.0_{}0101-{}1231.nc'.format(var, ys, ye))\n",
    "\n",
    "            ds = ds.rename({'lon':'longitude'}).rename({'lat':'latitude'})\n",
    "            ds.coords['longitude'] = np.where(ds.longitude.values < 0,\n",
    "                                              ds.longitude.values + 360,\n",
    "                                              ds.longitude.values)\n",
    "\n",
    "            ds = ds.sortby(ds.longitude)\n",
    "            ds.longitude.attrs['units'] = 'degrees_onlypositive'\n",
    "\n",
    "            # this takes too long !!!\n",
    "            # ds_merged_glaciers = xr_prcp.where(ds_inv['glacier_mask'], drop = True)\n",
    "\n",
    "            ds['ASurf'] = ds_inv['orog'] #ds_inv['ASurf']\n",
    "            if ys==1979 and var =='pr':\n",
    "\n",
    "                # as we use here only those gridpoints where glaciers are involved, need to put the mask on dsi as well!\n",
    "                # dsi = ds_inv.where(ds_inv['glacier_mask'], drop = True)  # this makes out of in total 6483600 points only 116280 points!!!\n",
    "                dsi = ds.isel(time=[0]).where(ds_inv['glacier_mask'], drop = True)\n",
    "                # we do not want any dependency on latitude and longitude\n",
    "                dsif = dsi.stack(points=('latitude', 'longitude')).reset_index(('points'))\n",
    "                #dsif # so far still many points \n",
    "\n",
    "                # drop the non-glacierized points\n",
    "                dsifs = dsif.where(np.isfinite(dsi[var].stack(points=('latitude',\n",
    "                                                                      'longitude')).reset_index(('time',\n",
    "                                                                                                 'points'))), drop=True)\n",
    "                # I have to drop the 'time_' dimension, to be equal to the era5_land example, because the invariant file should not have any time dependence !\n",
    "                dsifs = dsifs.drop_vars(var)\n",
    "                dsifs = dsifs.drop('time')\n",
    "                dsifs = dsifs.drop('time_')\n",
    "                dsifs.to_netcdf('/home/users/lschuster/W5E5/flattened/w5e5v2.0_glacier_invariant_flat.nc')\n",
    "\n",
    "                #check if gridpoint nearest to hef is right!!!\n",
    "                # happened once that something went wrong here ...\n",
    "                lon, lat = (10.7584, 46.8003)\n",
    "                #orog = xr.open_dataset('/home/lilianschuster/Downloads/w5e5v2.0_glacier_invariant_flat.nc').ASurf\n",
    "                orog = dsifs.ASurf\n",
    "                c = (orog.longitude - lon)**2 + (orog.latitude - lat)**2\n",
    "                surf_hef = orog.isel(points=c.argmin())\n",
    "                np.testing.assert_allclose(surf_hef, 2250, rtol=0.1)\n",
    "            ds = ds.drop_vars('ASurf')\n",
    "\n",
    "            for t in ds.time.values[:]:  # ds_merged_glaciers.time.values: .sel(time=slice('1901-04','2016-12'))\n",
    "                # produce a temporary file for each month\n",
    "                sel_l = ds.sel(time=[t])\n",
    "                # don't do the dropping twice!!!!\n",
    "                #sel = sel_l.where(ds_inv['glacier_mask'], drop = True)\n",
    "                sel = sel_l.where(ds_inv['glacier_mask'])\n",
    "                sel = sel.stack(points=('latitude', 'longitude')).reset_index(('time', 'points'))\n",
    "                sel = sel.where(np.isfinite(sel[var]), drop=True)\n",
    "                sel.to_netcdf('/home/users/lschuster/W5E5/flattened/tmp_{}/tmp_{}.nc'.format(var, str(t)[:10]))\n"
   ]
  },
  {
   "cell_type": "code",
   "execution_count": null,
   "id": "stretch-namibia",
   "metadata": {},
   "outputs": [],
   "source": [
    "# make yearly files\n",
    "for var in ['pr', 'tas']:\n",
    "    for y in np.arange(1979, 2020):\n",
    "        dso_y = xr.open_mfdataset('/home/users/lschuster/W5E5/flattened/tmp_{}/tmp_{}-*.nc'.format(var, str(y)),\n",
    "                                  concat_dim='time', combine='nested') # .rename_vars({'time_':'time'})\n",
    "        dso_y.to_netcdf('/home/users/lschuster/W5E5/flattened/tmp_{}/tmp2_{}.nc'.format(var, str(y)))\n",
    "        dso_y.close()\n",
    "    \n",
    "# aggregate yearly files\n",
    "for var in ['pr', 'tas']:\n",
    "    dso_all2 = xr.open_mfdataset('/home/users/lschuster/W5E5/flattened/tmp_{}/tmp2_*.nc'.format(var),\n",
    "                        concat_dim='time', combine='nested', parallel = True).rename_vars({'time_':'time'})\n",
    "    \n",
    "    dso_all2.attrs['history'] = 'longitudes to 0 -> 360,  only glacier gridpoints chosen and flattened latitude/longitude --> points'\n",
    "    dso_all2.attrs['postprocessing_date'] = str(np.datetime64('today','D'))\n",
    "    dso_all2.attrs['postprocessing_scientist'] = 'lilian.schuster@student.uibk.ac.at'\n",
    "    dso_all2.to_netcdf('/home/users/lschuster/W5E5/flattened/w5e5v2.0_{}_global_daily_flat_glaciers_1979_2019.nc'.format(var))\n",
    "    \n",
    "\n",
    "\n"
   ]
  },
  {
   "cell_type": "code",
   "execution_count": null,
   "id": "sensitive-truth",
   "metadata": {},
   "outputs": [],
   "source": [
    "# make monthly files \n",
    "for var in ['pr', 'tas']:\n",
    "\n",
    "    pathi= 'flattened/w5e5v2.0_{}_global_daily_flat_glaciers_1979_2019.nc'.format(var)\n",
    "    ds = xr.open_dataset(pathi)\n",
    "\n",
    "\n",
    "    ds_monthly = ds.resample(time='MS', keep_attrs=True).mean(keep_attrs=True)\n",
    "\n",
    "    ds_monthly.attrs['postprocessing_scientist'] = 'lilian.schuster@student.uibk.ac.at'\n",
    "    ds_monthly.attrs['postprocessing_actions'] =  (\"using xarray: ds_monthly = ds.resample(time='MS', keep_attrs=True).mean(keep_attrs=True)\\n\"\n",
    "                                                                      \"ds_monthly.to_netcdf()\\n\")\n",
    "\n",
    "    ds_monthly.to_netcdf('flattened/w5e5v2.0_{}_global_monthly_flat_glaciers_1979_2019.nc'.format(var))\n",
    "    \n",
    "    if var == 'tas':\n",
    "        # also compute monthly daily std:\n",
    "\n",
    "        ds_tas_daily_std = ds.resample(time='MS', keep_attrs=True).std(keep_attrs=True)\n",
    "        ds_tas_daily_std = ds_tas_daily_std.rename_vars(dict(tas='tas_std'))\n",
    "        # now have to change variable tas to tas_std and its attributes \n",
    "        ds_tas_daily_std.tas_std.attrs['standard_name'] = 'air_temperature_daily_std'\n",
    "        ds_tas_daily_std.tas_std.attrs['long_name'] = 'Near-Surface Air Temperature daily standard deviation'\n",
    "        ds_tas_daily_std.attrs['postprocessing_date'] = str(np.datetime64('today','D'))\n",
    "        ds_tas_daily_std.attrs['postprocessing_scientist'] = 'lilian.schuster@student.uibk.ac.at'\n",
    "        ds_tas_daily_std.attrs['postprocessing_actions'] =  (\"using xarray: \\n\"\n",
    "                                                                      \"ds_tas_daily_std = ds.resample(time='MS', keep_attrs=True).std(keep_attrs=True)\\n\"\n",
    "                                                                       \"ds_tas_daily_std = ds_tas_daily_std.rename_vars(dict(tas='tas_std'))\\n\"\n",
    "                                                                       \"ds_tas_daily_std.tas_std.attrs['standard_name'] = 'air_temperature_daily_std'\\n\"\n",
    "                                                                       \"ds_tas_daily_std.tas_std.attrs['long_name'] = 'Near-Surface Air Temperature daily standard deviation'\\n\"\n",
    "                                                                      \"ds_tas_daily_std.to_netcdf(...)\\n\")\n",
    "        \n",
    "        ds_tas_daily_std.to_netcdf('flattened/w5e5v2.0_tas_std_global_monthly_flat_glaciers_1979_2019.nc')"
   ]
  },
  {
   "cell_type": "code",
   "execution_count": null,
   "id": "sustained-center",
   "metadata": {},
   "outputs": [],
   "source": [
    "#import os\n",
    "#os.remove('/home/users/lschuster/glacierMIP/isimip3b/flattened/tmp_monthly_{}/'.format(var))\n",
    "import glob\n",
    "for var in ['pr', 'tas']:\n",
    "    files = glob.glob('/home/users/lschuster/W5E5/flattened/tmp_{}/tmp*'.format(var))\n",
    "    for f in files:\n",
    "        os.remove(f)"
   ]
  },
  {
   "cell_type": "code",
   "execution_count": null,
   "id": "solved-proxy",
   "metadata": {},
   "outputs": [],
   "source": [
    "pr = xr.open_dataset('flattened/w5e5v2.0_pr_global_daily_flat_glaciers_1979_2019.nc')"
   ]
  },
  {
   "cell_type": "code",
   "execution_count": null,
   "id": "strategic-investigation",
   "metadata": {},
   "outputs": [],
   "source": [
    "tas = xr.open_dataset('flattened/w5e5v2.0_tas_global_daily_flat_glaciers_1979_2019.nc')"
   ]
  },
  {
   "cell_type": "code",
   "execution_count": null,
   "id": "looking-disco",
   "metadata": {},
   "outputs": [],
   "source": [
    "lon, lat = (10.7584, 46.8003)\n",
    "inv = xr.open_dataset('flattened/w5e5v2.0_glacier_invariant_flat.nc').ASurf\n",
    "c = (inv.longitude - lon)**2 + (inv.latitude - lat)**2\n",
    "tas_sel = tas.isel(points=c.argmin())\n",
    "pr_sel = pr.isel(points=c.argmin())\n",
    "\n",
    "tas_sel.tas\n"
   ]
  },
  {
   "cell_type": "code",
   "execution_count": null,
   "id": "limited-housing",
   "metadata": {},
   "outputs": [],
   "source": [
    "plt.plot(pr_sel.pr)"
   ]
  },
  {
   "cell_type": "code",
   "execution_count": null,
   "id": "noted-universal",
   "metadata": {},
   "outputs": [],
   "source": [
    "tas_sel.tas.mean()"
   ]
  },
  {
   "cell_type": "code",
   "execution_count": null,
   "id": "documented-venezuela",
   "metadata": {},
   "outputs": [],
   "source": [
    "plt.plot(tas_sel.tas)"
   ]
  },
  {
   "cell_type": "markdown",
   "id": "dense-librarian",
   "metadata": {},
   "source": [
    "**move the files somewhere where everyone can get them**\n",
    "- `mkdir /home/www/lschuster/w5e5v2.0`\n",
    "- `mkdir /home/www/lschuster/w5e5v2.0/flattened`\n",
    "- `mkdir /home/www/lschuster/w5e5v2.0/flattened/monthly`\n",
    "- `mkdir /home/www/lschuster/w5e5v2.0/flattened/daily`\n",
    "- `cp flattened/w5e5*monthly* /home/www/lschuster/w5e5v2.0/flattened/monthly/`\n",
    "- `cp flattened/w5e5*daily* /home/www/lschuster/w5e5v2.0/flattened/daily/`\n",
    "- `cp flattened/w5e5*inv* /home/www/lschuster/w5e5v2.0/flattened/daily/`\n",
    "- `cp flattened/w5e5*inv* /home/www/lschuster/w5e5v2.0/flattened/monthly/`"
   ]
  },
  {
   "cell_type": "code",
   "execution_count": null,
   "id": "concrete-baking",
   "metadata": {},
   "outputs": [],
   "source": []
  }
 ],
 "metadata": {
  "kernelspec": {
   "display_name": "Python 3 (ipykernel)",
   "language": "python",
   "name": "python3"
  },
  "language_info": {
   "codemirror_mode": {
    "name": "ipython",
    "version": 3
   },
   "file_extension": ".py",
   "mimetype": "text/x-python",
   "name": "python",
   "nbconvert_exporter": "python",
   "pygments_lexer": "ipython3",
   "version": "3.9.15"
  }
 },
 "nbformat": 4,
 "nbformat_minor": 5
}
