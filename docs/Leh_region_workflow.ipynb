{
 "cells": [
  {
   "cell_type": "code",
   "execution_count": null,
   "id": "aedb60c5-f88a-4dc1-8f8b-0797d57e7a02",
   "metadata": {},
   "outputs": [],
   "source": [
    "import numpy as np\n",
    "import pandas as pd\n",
    "import xarray as xr\n",
    "import seaborn as sns\n",
    "import pickle\n",
    "import matplotlib.pyplot as plt\n",
    "import matplotlib\n",
    "import scipy\n",
    "import scipy.stats as stats\n",
    "import os\n",
    "import oggm\n",
    "from oggm import cfg, utils, workflow, tasks, graphics\n",
    "from oggm.core import massbalance, flowline\n",
    "import geopandas as gpd\n",
    "import xarray as xr\n",
    "import matplotlib.dates as mdates\n",
    "\n",
    "# import the MSsandbox modules\n",
    "from MBsandbox.mbmod_daily_oneflowline import process_w5e5_data, TIModel, BASENAMES, process_era5_daily_data\n",
    "\n",
    "from oggm.utils import (floatyear_to_date, date_to_floatyear)"
   ]
  },
  {
   "cell_type": "code",
   "execution_count": null,
   "id": "0f80fa4c-b3e6-46c6-959a-bf1255c3e411",
   "metadata": {},
   "outputs": [],
   "source": [
    "df = ['RGI60-14.12678', 'RGI60-14.12677', 'RGI60-14.12682', 'RGI60-14.12684', 'RGI60-14.12685']"
   ]
  }
 ],
 "metadata": {
  "kernelspec": {
   "display_name": "Python 3 (ipykernel)",
   "language": "python",
   "name": "python3"
  },
  "language_info": {
   "codemirror_mode": {
    "name": "ipython",
    "version": 3
   },
   "file_extension": ".py",
   "mimetype": "text/x-python",
   "name": "python",
   "nbconvert_exporter": "python",
   "pygments_lexer": "ipython3",
   "version": "3.9.15"
  }
 },
 "nbformat": 4,
 "nbformat_minor": 5
}
