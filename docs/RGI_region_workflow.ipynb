{
 "cells": [
  {
   "cell_type": "code",
   "execution_count": null,
   "id": "8dd4c38b-27bd-4265-a9bd-d1f9aea5dcad",
   "metadata": {},
   "outputs": [],
   "source": [
    "# Python imports\n",
    "import logging\n",
    "import xarray as xr\n",
    "import pandas as pd\n",
    "\n",
    "# Libs\n",
    "import geopandas as gpd\n",
    "import shapely.geometry as shpg\n",
    "\n",
    "# Locals\n",
    "import oggm.cfg as cfg\n",
    "from oggm import utils, workflow, tasks\n",
    "\n",
    "# For timing the run\n",
    "import time\n",
    "start = time.time()\n",
    "\n",
    "# Module logger\n",
    "log = logging.getLogger(__name__)\n",
    "\n",
    "# Initialize OGGM and set up the default run parameters\n",
    "cfg.initialize(logging_level='WORKFLOW')\n",
    "rgi_version = '62'\n",
    "rgi_region = '13'\n",
    "\n",
    "# Here we override some of the default parameters\n",
    "# How many grid points around the glacier?\n",
    "# Make it large if you expect your glaciers to grow large:\n",
    "# here, 80 is more than enough\n",
    "cfg.PARAMS['border'] = 80\n",
    "cfg.PARAMS['use_multiprocessing'] = True\n",
    "\n",
    "# My configs\n",
    "cfg.PARAMS['hydro_month_nh'] = 1\n",
    "climate='W5E5'\n",
    "\n",
    "# import the MSsandbox modules\n",
    "from MBsandbox.mbmod_daily_oneflowline import process_w5e5_data, TIModel, BASENAMES, process_era5_daily_data\n",
    "\n",
    "# Local working directory (where OGGM will write its output)\n",
    "WORKING_DIR = utils.gettempdir('Experiment')\n",
    "utils.mkdir(WORKING_DIR, reset=False)\n",
    "cfg.PATHS['working_dir'] = WORKING_DIR"
   ]
  },
  {
   "cell_type": "code",
   "execution_count": null,
   "id": "1a1679a2-48f5-4ef7-aad6-3a86f41a6437",
   "metadata": {
    "tags": []
   },
   "outputs": [],
   "source": [
    "# RGI file\n",
    "path = utils.get_rgi_region_file(rgi_region, version=rgi_version)\n",
    "rgidf = gpd.read_file(path)\n",
    "log.workflow('Starting OGGM run')\n",
    "log.workflow('Number of glaciers: {}'.format(len(rgidf)))\n",
    "#rgi_df = rgidf.iloc[[0, -1]]\n",
    "#rgi_df = rgidf\n",
    "\n",
    "# Go - get the pre-processed glacier directories\n",
    "#gdirs = workflow.init_glacier_regions(rgidf[12670:12680], from_prepro_level=2)\n",
    "gdirs = workflow.init_glacier_regions(rgidf, from_prepro_level=2)\n",
    "rgidf[[\"RGIId\", \"CenLon\", \"CenLat\"]].to_csv(\"rgi_\" + rgi_region + \"_lon_lat.csv\")"
   ]
  },
  {
   "cell_type": "code",
   "execution_count": null,
   "id": "1e0e3a40-fb59-49e8-8efb-65f6d22e82ec",
   "metadata": {},
   "outputs": [],
   "source": [
    "# My Experiment\n",
    "temps=[]\n",
    "# Get climate Data\n",
    "for j,gdir in enumerate(gdirs):\n",
    "    process_w5e5_data(gdir, climate_type=climate, temporal_resol='monthly', y0 = 2000, y1=2010)\n",
    "    file = gdir.get_filepath(\"climate_historical\", filesuffix=\"_monthly_W5E5\")\n",
    "    ds = xr.open_dataset(file)\n",
    "    w5e5_coords = [ds.ref_pix_lat, ds.ref_pix_lon]\n",
    "    log.workflow(f'Completed {j} out of {len(rgi_df)}')\n",
    "# Combine with glacier data\n",
    "    ds[\"month\"] = ds.time.dt.month\n",
    "    # Get the topo data and the glacier mask\n",
    "    with xr.open_dataset(gdir.get_filepath('gridded_data')) as ts:\n",
    "        topo = ts.topo\n",
    "    for i in range(1, 13):\n",
    "        temps.append([gdir.rgi_id, ds.ref_hgt, w5e5_coords, i, topo.data.min(), gdir.rgi_area_km2,  ds.groupby(\"month\")[i].rolling(time=10).mean().dropna(\"time\")[\"temp\"].values[0], ds.groupby(\"month\")[i].rolling(time=10).mean().dropna(\"time\")[\"gradient\"].values[0]])\n",
    "df = pd.DataFrame (temps, columns = ['rgi_id', 'w5e5_hgt', 'w5e5_coords', 'month', 'terminus_alt', 'area', 'temp', 'gradient' ])\n",
    "df.temp += df.gradient * (df.terminus_alt - df.w5e5_hgt)\n",
    "df"
   ]
  },
  {
   "cell_type": "code",
   "execution_count": null,
   "id": "df9e1605-c86b-486e-b4d5-75a11d359cbe",
   "metadata": {},
   "outputs": [],
   "source": [
    "ds"
   ]
  },
  {
   "cell_type": "code",
   "execution_count": null,
   "id": "b5743b90-82f5-46b9-a421-55957d4efdc7",
   "metadata": {},
   "outputs": [],
   "source": [
    "df = pd.DataFrame (temps, columns = ['rgi_id', 'w5e5_hgt', 'w5e5_coords', 'month', 'terminus_alt', 'area', 'temp', 'gradient' ])\n",
    "df.temp += df.gradient * (df.terminus_alt - df.w5e5_hgt)\n",
    "df"
   ]
  },
  {
   "cell_type": "code",
   "execution_count": null,
   "id": "58b75997-7db7-4e3d-b8e4-20725e100afe",
   "metadata": {
    "tags": []
   },
   "outputs": [],
   "source": [
    "df3 = df.groupby(\"rgi_id\").min()\n",
    "df3[\"min_annual_temp\"] = df3[\"temp\"]\n",
    "df3[[\"weighted_subzero_alt\", \"weighted_terminus_alt\", \"subzero_alt\"]] = 0\n",
    "df3 = df3.reset_index()\n",
    "df3"
   ]
  },
  {
   "cell_type": "code",
   "execution_count": null,
   "id": "8cf8afd8-cb19-429d-a15a-25609d3149d3",
   "metadata": {
    "tags": []
   },
   "outputs": [],
   "source": [
    "for i in range(0,df3.shape[0]):\n",
    "    df3.loc[i,\"month\"] = df.loc[df.temp==df3.min_annual_temp[i], \"month\"].values[0]\n",
    "    df3.loc[i,\"gradient\"] = df.loc[df.temp==df3.min_annual_temp[i], \"gradient\"].values[0]\n",
    "    df3.loc[i,\"terminus_alt\"] = df.loc[df.temp==df3.min_annual_temp[i], \"terminus_alt\"].values[0]\n",
    "    df3.loc[i, \"subzero_alt\"] = -df3.loc[i,\"min_annual_temp\"]/df3.loc[i,\"gradient\"] + df3.loc[i,\"terminus_alt\"]\n",
    "    df3.loc[i, \"weighted_subzero_alt\"] = df3.loc[i, \"area\"] * df3.loc[i, \"subzero_alt\"]\n",
    "    df3.loc[i, \"weighted_terminus_alt\"] = df3.loc[i, \"area\"]* df3.loc[i, \"terminus_alt\"]\n",
    "    "
   ]
  },
  {
   "cell_type": "code",
   "execution_count": null,
   "id": "22569984-99e3-4b55-ac23-65d78e3b1172",
   "metadata": {},
   "outputs": [],
   "source": [
    "df4 = df3[['rgi_id', 'w5e5_hgt', 'w5e5_coords', 'weighted_subzero_alt', 'weighted_terminus_alt']]\n",
    "df4"
   ]
  },
  {
   "cell_type": "code",
   "execution_count": null,
   "id": "b8f0d682-c827-4be7-b6c0-1eabba755cfc",
   "metadata": {},
   "outputs": [],
   "source": [
    "df4['w5e5_coords'] = df4['w5e5_coords'].astype(str)\n",
    "df4.dtypes\n",
    "df5 = df4.groupby(\"w5e5_hgt\").mean().reset_index()\n",
    "for i in range(0,df5.shape[0]):\n",
    "    df5.loc[i,\"w5e5_coords\"] = df4.loc[df4.w5e5_hgt==df5.w5e5_hgt[i], \"w5e5_coords\"].values[0]\n",
    "\n",
    "df5[\"alt_diff\"] = df5[\"weighted_terminus_alt\"] - df5[\"weighted_subzero_alt\"]\n",
    "df6 = df5[['w5e5_coords', 'alt_diff']]\n",
    "df6"
   ]
  },
  {
   "cell_type": "code",
   "execution_count": null,
   "id": "a3beef92-f4e0-4962-a04f-185d1a2b15cf",
   "metadata": {},
   "outputs": [],
   "source": [
    "df6['w5e5_coords']=df6['w5e5_coords'].str.strip('[]').str.split(',')\n",
    "df6['lat'], df6['lon'] = zip(*df6.pop('w5e5_coords'))\n",
    "df6 = df6[[\"lat\", \"lon\", \"alt_diff\"]]\n",
    "df6"
   ]
  },
  {
   "cell_type": "code",
   "execution_count": null,
   "id": "63503cb7-5f99-4da2-b580-6323b6dc254c",
   "metadata": {},
   "outputs": [],
   "source": [
    "ds2 = xr.open_dataset(\"/home/bsurya/work/w5e5_orog/Global_RiverSlope_HydroSTN30_06min_Static.nc\", decode_times=False)\n",
    "for i in range(0,df6.shape[0]):\n",
    "    df6.loc[i,\"slope\"] = ds2.sel(latitude=df6.lat[i], longitude=df6.lon[i], method=\"nearest\").RiverSlope.values[0]\n",
    "df6"
   ]
  },
  {
   "cell_type": "code",
   "execution_count": null,
   "id": "1d74f8f7-9603-4752-a6ba-22c66524f186",
   "metadata": {},
   "outputs": [],
   "source": [
    "mask1=  (df6.alt_diff > 10)\n",
    "mask2 = (df6.slope > 0.01)\n",
    "df6[mask2 & mask1].count()"
   ]
  },
  {
   "cell_type": "code",
   "execution_count": null,
   "id": "68990b7d-f64e-4112-a35a-cb87c2849341",
   "metadata": {},
   "outputs": [],
   "source": [
    "import matplotlib.pyplot as plt\n",
    "plt.scatter(df6.index, df6.alt_diff, color=\"black\", label = \"Condition 1 failure\")\n",
    "plt.scatter(df6[mask1].index, df6[mask1].alt_diff, color=\"blue\", label = \"Condition 2 failure\")\n",
    "plt.scatter(df6[mask2].index, df6[mask2].alt_diff, color=\"red\", label = \"All conditions pass\")\n",
    "plt.ylabel(\"Terminus and Subzero alt difference\")\n",
    "plt.xlabel(\"W5E5 grid cells\")\n",
    "plt.legend()"
   ]
  },
  {
   "cell_type": "code",
   "execution_count": null,
   "id": "c7aa1330-c580-4367-ae32-f817dadb8d8a",
   "metadata": {
    "collapsed": true,
    "jupyter": {
     "outputs_hidden": true
    }
   },
   "outputs": [],
   "source": []
  }
 ],
 "metadata": {
  "kernelspec": {
   "display_name": "Python 3 (ipykernel)",
   "language": "python",
   "name": "python3"
  },
  "language_info": {
   "codemirror_mode": {
    "name": "ipython",
    "version": 3
   },
   "file_extension": ".py",
   "mimetype": "text/x-python",
   "name": "python",
   "nbconvert_exporter": "python",
   "pygments_lexer": "ipython3",
   "version": "3.9.15"
  }
 },
 "nbformat": 4,
 "nbformat_minor": 5
}
